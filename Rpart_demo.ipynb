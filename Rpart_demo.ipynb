{
 "cells": [
  {
   "cell_type": "code",
   "execution_count": 1,
   "metadata": {},
   "outputs": [],
   "source": [
    "# install.packages(\"rpart\")   # ha nincs meg, akkor ezt kell lefuttatni\n",
    "library(\"rpart\")"
   ]
  },
  {
   "cell_type": "code",
   "execution_count": 2,
   "metadata": {},
   "outputs": [],
   "source": [
    "data<-read.csv(\"globalterrorismdb_0617dist.csv\", header = T, sep = \";\", skipNul = T)"
   ]
  },
  {
   "cell_type": "code",
   "execution_count": 3,
   "metadata": {},
   "outputs": [],
   "source": [
    "# Itt adjuk hozzá az osztályozást az adatokhoz\n",
    "borders <- as.matrix(c(1,5,10,100))\n",
    "classes<-rep(0,nrow(data))\n",
    "for (i in 1:nrow(data))\n",
    "{\n",
    "  # ha nincs adat az áldozatok számáról, akkor az osztálya -1\n",
    "  if(is.na(data[i,'nkill']))\n",
    "    classes[i]<--1\n",
    "  else\n",
    "  {\n",
    "    for (j in 1:nrow(borders)) \n",
    "    {\n",
    "      if (data[i,'nkill']<borders[j])\n",
    "      {\n",
    "        classes[i]<-j\n",
    "        break()\n",
    "      }\n",
    "    }\n",
    "    if(classes[i]==0)\n",
    "      classes[i]<-5\n",
    "  }\n",
    "}\n",
    "\n",
    "# az adatokat és a hozzájuk tartozó címkéket egy táblázatba tesszük\n",
    "newdata<-cbind(data,classes)\n",
    "# kiszűrjük azokat a sorokat, ahol nincs osztályozás\n",
    "newdata<-newdata[newdata[,'classes']!=-1,]"
   ]
  },
  {
   "cell_type": "code",
   "execution_count": 4,
   "metadata": {},
   "outputs": [],
   "source": [
    "# az adatok 80%-a lesz a tanítóhalmaz\n",
    "tr_idx<-sample(nrow(newdata), nrow(newdata)*0.8)\n",
    "train<-newdata[tr_idx,]\n",
    "test<-newdata[-tr_idx,]"
   ]
  },
  {
   "cell_type": "code",
   "execution_count": 5,
   "metadata": {},
   "outputs": [
    {
     "data": {
      "image/png": "[encoded data removed]",
      "text/plain": [
       "plot without title"
      ]
     },
     "metadata": {},
     "output_type": "display_data"
    }
   ],
   "source": [
    "# itt lehet játszani a paraméterekkel: a fa tanítása\n",
    "tree<-rpart(factor(classes)~iyear+imonth+iday+extended+country+region+specificity+vicinity+crit1+crit2+crit3+doubtterr+\n",
    "            alternative+multiple+success+suicide+attacktype1+attacktype2+attacktype3+targtype1+targsubtype1+natlty1+\n",
    "            targtype2+targsubtype2+natlty2+targtype3+targsubtype3+natlty3+guncertain1+guncertain2+guncertain3+individual+\n",
    "            nperps+claimed+claimmode+claim2+claimmode2+claim3+claimmode3+compclaim+weaptype1+weapsubtype1+weaptype2+\n",
    "            weapsubtype2+weaptype3+weapsubtype3+weaptype4+weapsubtype4+nwound+nwoundte+property+propextent+ishostkid+\n",
    "            nhostkid+ndays+ransom+hostkidoutcome+nreleased+INT_LOG+INT_IDEO+INT_MISC+INT_ANY,data=train)\n",
    "# kirajzolja a fát\n",
    "plot(tree)\n",
    "# szöveggel látja el az ábrát\n",
    "text(tree,cex=.8)"
   ]
  },
  {
   "cell_type": "markdown",
   "metadata": {},
   "source": [
    "# Tapasztalatok\n",
    "\n",
    "A **diszkrét numerikus** változókkal, amelyeknek *kisebb értékintervalluma* van, jól boldogul az rpart, ezekre a leghatékonyabb. Ide tartoznak az olyan diszkrét numerikus változók, mint amilyen pl. az nwound, és az olyan kategorikus változók is, amelyek értékét az adathalmazban véges sok számmal jelölik (azaz diszkrét numerikus változóként), pl. country.\n",
    "\n",
    "A **folytonos numerikus** változókkal az rpart nagyon küzd, reménytelenül hosszú idő alatt tanul ezekből az értékekből, pl. latitude és longitude attribútumok, és az olyan **diszkrét numerikus** változókkal sem boldogul, amelynek *nagyobb értékintervalluma* van, pl. propvalue.\n",
    "\n",
    "A **szöveg típusú változókkal** pedig szintén reménytelen a tanulás, mert azok alapján nem lehet úgy elágaztatni, mint a numerikus változók alapján, hiszen nincs olyan értékük, amely alapján szét lehetne őket választani, főleg, ha a szövegek sokfélék lehetnek. \n",
    "\n",
    "Egyébként sok szöveges változóhoz van numerikus érték is, pl. a country_txt-hez a country, amelyek ugyanazt az információt hordozzák, így ezekben az esetekben a numerikus verziót kell használni a tanuláshoz. Amelyekhez nincs numerikus érték, azokat nem vesszük bele a tanítandó változóhalmazba.\n",
    "\n",
    "Tehát csak az olyan diszkrét numerikus változók alapján tanítjuk a döntési fát, amelyek tanulásával az rpartnak nincs gondja. Az rpartnak egyébként nem számít, ha valamelyik sor valamelyik cellájában valamelyik bemeneti változó értéke üres, míg az MLlib-nek számít."
   ]
  },
  {
   "cell_type": "code",
   "execution_count": null,
   "metadata": {},
   "outputs": [],
   "source": []
  }
 ],
 "metadata": {
  "kernelspec": {
   "display_name": "R",
   "language": "R",
   "name": "ir"
  },
  "language_info": {
   "codemirror_mode": "r",
   "file_extension": ".r",
   "mimetype": "text/x-r-source",
   "name": "R",
   "pygments_lexer": "r",
   "version": "3.3.2"
  }
 },
 "nbformat": 4,
 "nbformat_minor": 2
}
