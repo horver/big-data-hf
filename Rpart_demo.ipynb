{
 "cells": [
  {
   "cell_type": "code",
   "execution_count": null,
   "metadata": {},
   "outputs": [],
   "source": [
    "# install.packages(\"rpart\")   # ha nincs meg, akkor ezt kell lefuttatni\n",
    "library(\"rpart\")\n",
    "\n",
    "data<-read.csv(\"globalterrorismdb_0617dist.csv\", header = T, sep = \";\", skipNul = T)"
   ]
  },
  {
   "cell_type": "code",
   "execution_count": null,
   "metadata": {},
   "outputs": [],
   "source": [
    "# Itt adjuk hozzá az osztályozást az adatokhoz\n",
    "borders <- as.matrix(c(1,5,10,100))\n",
    "classes<-rep(0,nrow(data))\n",
    "for (i in 1:nrow(data))\n",
    "{\n",
    "  # ha nincs adat az áldozatok számáról, akkor az osztálya -1\n",
    "  if(is.na(data[i,'nkill']))\n",
    "    classes[i]<--1\n",
    "  else\n",
    "  {\n",
    "    for (j in 1:nrow(borders)) \n",
    "    {\n",
    "      if (data[i,'nkill']<borders[j])\n",
    "      {\n",
    "        classes[i]<-j\n",
    "        break()\n",
    "      }\n",
    "    }\n",
    "    if(classes[i]==0)\n",
    "      classes[i]<-5\n",
    "  }\n",
    "}\n",
    "\n",
    "# az adatokat és a hozzájuk tartozó címkéket egy táblázatba tesszük\n",
    "newdata<-cbind(data,classes)\n",
    "# kiszűrjük azokat a sorokat, ahol nincs osztályozás\n",
    "newdata<-newdata[newdata[,'classes']!=-1,]"
   ]
  },
  {
   "cell_type": "code",
   "execution_count": null,
   "metadata": {},
   "outputs": [],
   "source": [
    "# az adatok 80%-a lesz a tanítóhalmaz\n",
    "tr_idx<-sample(nrow(newdata), nrow(newdata)*0.8)\n",
    "train<-newdata[tr_idx,]\n",
    "test<-newdata[-tr_idx,]"
   ]
  },
  {
   "cell_type": "code",
   "execution_count": null,
   "metadata": {},
   "outputs": [],
   "source": [
    "# itt lehet játszani a paraméterekkel: a fa tanítása\n",
    "tree<-rpart(factor(classes)~iyear+imonth+iday+extended+success+suicide+attacktype1+weaptype1+multiple+targtype1+region+\n",
    "            country+specificity+vicinity+crit1+crit2+crit3+doubtterr+natlty1+guncertain1+individual,data=train)\n",
    "# kirajzolja a fát\n",
    "plot(tree)\n",
    "# szöveggel látja el az ábrát\n",
    "text(tree,cex=.8)"
   ]
  }
 ],
 "metadata": {
  "kernelspec": {
   "display_name": "R",
   "language": "R",
   "name": "ir"
  },
  "language_info": {
   "codemirror_mode": "r",
   "file_extension": ".r",
   "mimetype": "text/x-r-source",
   "name": "R",
   "pygments_lexer": "r",
   "version": "3.3.2"
  }
 },
 "nbformat": 4,
 "nbformat_minor": 2
}
