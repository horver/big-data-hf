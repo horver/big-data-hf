{
 "cells": [
  {
   "cell_type": "code",
   "execution_count": 1,
   "metadata": {},
   "outputs": [],
   "source": [
    "# install.packages(\"rpart\")   # ha nincs meg, akkor ezt kell lefuttatni\n",
    "library(\"rpart\")"
   ]
  },
  {
   "cell_type": "code",
   "execution_count": 2,
   "metadata": {},
   "outputs": [],
   "source": [
    "data<-read.csv(\"globalterrorismdb_0617dist.csv\", header = T, sep = \";\", skipNul = T)"
   ]
  },
  {
   "cell_type": "code",
   "execution_count": 3,
   "metadata": {},
   "outputs": [],
   "source": [
    "# Itt adjuk hozzá az osztályozást az adatokhoz\n",
    "borders <- as.matrix(c(1,5,10,100))\n",
    "classes<-rep(0,nrow(data))\n",
    "for (i in 1:nrow(data))\n",
    "{\n",
    "  # ha nincs adat az áldozatok számáról, akkor az osztálya -1\n",
    "  if(is.na(data[i,'nkill']))\n",
    "    classes[i]<--1\n",
    "  else\n",
    "  {\n",
    "    for (j in 1:nrow(borders)) \n",
    "    {\n",
    "      if (data[i,'nkill']<borders[j])\n",
    "      {\n",
    "        classes[i]<-j\n",
    "        break()\n",
    "      }\n",
    "    }\n",
    "    if(classes[i]==0)\n",
    "      classes[i]<-5\n",
    "  }\n",
    "}\n",
    "\n",
    "# az adatokat és a hozzájuk tartozó címkéket egy táblázatba tesszük\n",
    "newdata<-cbind(data,classes)\n",
    "# kiszűrjük azokat a sorokat, ahol nincs osztályozás\n",
    "newdata<-newdata[newdata[,'classes']!=-1,]"
   ]
  },
  {
   "cell_type": "code",
   "execution_count": 4,
   "metadata": {},
   "outputs": [],
   "source": [
    "# az adatok 80%-a lesz a tanítóhalmaz\n",
    "tr_idx<-sample(nrow(newdata), nrow(newdata)*0.8)\n",
    "train<-newdata[tr_idx,]\n",
    "test<-newdata[-tr_idx,]"
   ]
  },
  {
   "cell_type": "code",
   "execution_count": 5,
   "metadata": {},
   "outputs": [
    {
     "data": {
      "image/png": "[encoded data removed]",
      "text/plain": [
       "plot without title"
      ]
     },
     "metadata": {},
     "output_type": "display_data"
    }
   ],
   "source": [
    "# itt lehet játszani a paraméterekkel: a fa tanítása\n",
    "tree<-rpart(factor(classes)~eventid+iyear+imonth+iday+extended+country+region+\n",
    "            specificity+vicinity+crit1+crit2+crit3+doubtterr+multiple+success+\n",
    "            suicide+attacktype1+targtype1+natlty1+guncertain1+individual+\n",
    "            weaptype1+property+ishostkid+ransom+INT_LOG+INT_IDEO+INT_MISC+INT_ANY+\n",
    "            targsubtype1+weapsubtype1+nwound+propextent,data=train)\n",
    "# kirajzolja a fát\n",
    "plot(tree)\n",
    "# szöveggel látja el az ábrát\n",
    "text(tree,cex=.8)"
   ]
  },
  {
   "cell_type": "markdown",
   "metadata": {},
   "source": [
    "Tapasztalatok: a **diszkrét numerikus** változókkal jól boldogul az rpart, ezekre a leghatékonyabb. Ide tartoznak az olyan numrikus változók is, amelyeknek nincs nagy értékintervalluma, pl. nwound.\n",
    "\n",
    "A **numerikus folytonos** változókkal az rpart nagyon küzd, reménytelenül hosszú idő alatt tanul ezekből az értékekből, pl. latitude és longitude attribútumok, és a propvalue is idetartozik, amelynek nagy értékintervalluma van."
   ]
  },
  {
   "cell_type": "code",
   "execution_count": null,
   "metadata": {},
   "outputs": [],
   "source": []
  }
 ],
 "metadata": {
  "kernelspec": {
   "display_name": "R",
   "language": "R",
   "name": "ir"
  },
  "language_info": {
   "codemirror_mode": "r",
   "file_extension": ".r",
   "mimetype": "text/x-r-source",
   "name": "R",
   "pygments_lexer": "r",
   "version": "3.3.2"
  }
 },
 "nbformat": 4,
 "nbformat_minor": 2
}
