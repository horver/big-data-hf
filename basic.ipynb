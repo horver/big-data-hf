{
 "cells": [
  {
   "cell_type": "markdown",
   "metadata": {},
   "source": [
    "# GTD2 basic notebook"
   ]
  },
  {
   "cell_type": "markdown",
   "metadata": {},
   "source": [
    "Spark python könyvtár importálása, majd a spark környezet felállítása"
   ]
  },
  {
   "cell_type": "code",
   "execution_count": 1,
   "metadata": {},
   "outputs": [],
   "source": [
    "import pyspark\n",
    "sc = pyspark.SparkContext()"
   ]
  },
  {
   "cell_type": "markdown",
   "metadata": {},
   "source": [
    "Adatok betöltése RDD objektumként, majd egy map segítségével külön választjuk az oszlopokat"
   ]
  },
  {
   "cell_type": "code",
   "execution_count": 2,
   "metadata": {},
   "outputs": [],
   "source": [
    "raw = sc.textFile(\"globalterrorismdb_0617dist.csv\")\n",
    "data = raw.map(lambda x: x.split(';'))\n"
   ]
  },
  {
   "cell_type": "markdown",
   "metadata": {},
   "source": [
    "Saját függvény, amely az adatnak az oszlop indexét adja vissza, az oszlopnév alapján"
   ]
  },
  {
   "cell_type": "code",
   "execution_count": 3,
   "metadata": {},
   "outputs": [],
   "source": [
    "def getIndexByKey(key):\n",
    "    return data.take(1)[0].index(key)"
   ]
  },
  {
   "cell_type": "markdown",
   "metadata": {},
   "source": [
    "incidents_in_countries-ba eltároljuk, hogy mennyi az összes rekord egy adott országra nézve\n",
    "\n",
    "Várható kimenet:\n",
    "\n",
    "országnév | eset db\n",
    "--------- | -------\n",
    "Japan | 401\n",
    "Uruguay | 76\n",
    "... | ...\n"
   ]
  },
  {
   "cell_type": "code",
   "execution_count": 4,
   "metadata": {
    "scrolled": true
   },
   "outputs": [
    {
     "data": {
      "text/plain": [
       "[('country_txt', 1),\n",
       " ('Japan', 401),\n",
       " ('Uruguay', 76),\n",
       " ('Guatemala', 2050),\n",
       " ('Nicaragua', 1970)]"
      ]
     },
     "execution_count": 4,
     "metadata": {},
     "output_type": "execute_result"
    }
   ],
   "source": [
    "country_txt = getIndexByKey('country_txt')\n",
    "incidents_in_countries = data.map(lambda x: (x[country_txt], 1)).reduceByKey(lambda a,b: a+b)\n",
    "incidents_in_countries.take(5)"
   ]
  },
  {
   "cell_type": "code",
   "execution_count": null,
   "metadata": {},
   "outputs": [],
   "source": []
  }
 ],
 "metadata": {
  "kernelspec": {
   "display_name": "Python 3",
   "language": "python",
   "name": "python3"
  },
  "language_info": {
   "codemirror_mode": {
    "name": "ipython",
    "version": 3
   },
   "file_extension": ".py",
   "mimetype": "text/x-python",
   "name": "python",
   "nbconvert_exporter": "python",
   "pygments_lexer": "ipython3",
   "version": "3.6.2"
  }
 },
 "nbformat": 4,
 "nbformat_minor": 2
}
