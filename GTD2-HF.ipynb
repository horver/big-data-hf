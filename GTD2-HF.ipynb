{
 "cells": [
  {
   "cell_type": "markdown",
   "metadata": {},
   "source": [
    "# GTD2 notebook"
   ]
  },
  {
   "cell_type": "markdown",
   "metadata": {},
   "source": [
    "Spark python könyvtár importálása, majd a spark környezet felállítása"
   ]
  },
  {
   "cell_type": "code",
   "execution_count": 1,
   "metadata": {},
   "outputs": [],
   "source": [
    "import pyspark\n",
    "from pyspark.sql import SparkSession\n",
    "from pyspark.mllib.stat import Statistics\n",
    "\n",
    "sc = pyspark.SparkContext()"
   ]
  },
  {
   "cell_type": "markdown",
   "metadata": {},
   "source": [
    "Adatok betöltése, RDD objektumk létrehizása, külön választjuk az oszlopokat"
   ]
  },
  {
   "cell_type": "code",
   "execution_count": 2,
   "metadata": {},
   "outputs": [],
   "source": [
    "from pyspark.sql import Row\n",
    "raw = sc.textFile(\"globalterrorismdb_0617dist.txt\")\n",
    "data = raw.map(lambda x: x.split('\\t'))\n",
    "\n",
    "# Saját függvény, amely az adatnak az oszlop indexét adja vissza az oszlopnév alapján\n",
    "def getIndexByKey(key):\n",
    "    return data.take(1)[0].index(key)"
   ]
  },
  {
   "cell_type": "markdown",
   "metadata": {},
   "source": [
    "## 1. EDA\n",
    "\n",
    "incidents_in_countries-ba eltároljuk, hogy mennyi az összes rekord egy adott országra nézve\n",
    "\n",
    "Várható kimenet:\n",
    "\n",
    "országnév | eset db\n",
    "--------- | -------\n",
    "Japan | 401\n",
    "Uruguay | 76\n",
    "... | ...\n",
    "\n",
    "Majd az első 5 legtöbb rekordot tartalmazó országot megjelenítjük\n"
   ]
  },
  {
   "cell_type": "code",
   "execution_count": 3,
   "metadata": {
    "scrolled": true
   },
   "outputs": [
    {
     "data": {
      "text/plain": [
       "[(22130, 'Iraq'), (13634, 'Pakistan'), (11306, 'Afghanistan')]"
      ]
     },
     "execution_count": 3,
     "metadata": {},
     "output_type": "execute_result"
    }
   ],
   "source": [
    "country_txt = getIndexByKey('country_txt')\n",
    "incidents_in_countries = data.map(lambda x: (x[country_txt], 1)).reduceByKey(lambda a,b: a+b)\n",
    "incidents_in_countries = incidents_in_countries.map(lambda x: (x[1], x[0])).sortByKey(0)\n",
    "incidents_in_countries.take(3)"
   ]
  },
  {
   "cell_type": "code",
   "execution_count": 4,
   "metadata": {},
   "outputs": [],
   "source": [
    "import pandas as pd\n",
    "\n",
    "iyear = getIndexByKey('iyear')\n",
    "rdd_years = data.map(lambda x: (x[iyear], 1))\\\n",
    "                .reduceByKey(lambda a, b: a+b)\\\n",
    "                .filter(lambda x: x[0]!='iyear')\\\n",
    "                .sortByKey(1)\n",
    "\n",
    "years = rdd_years.collect()\n",
    "df_years = pd.DataFrame.from_records(years, columns = ('year', 'count')).apply(pd.to_numeric)"
   ]
  },
  {
   "cell_type": "code",
   "execution_count": 82,
   "metadata": {},
   "outputs": [
    {
     "data": {
      "text/plain": [
       "3703.260869565217"
      ]
     },
     "execution_count": 82,
     "metadata": {},
     "output_type": "execute_result"
    }
   ],
   "source": [
    "import numpy as np\n",
    "summary_year = Statistics.colStats(rdd_years)"
   ]
  },
  {
   "cell_type": "code",
   "execution_count": 5,
   "metadata": {},
   "outputs": [
    {
     "data": {
      "text/html": [
       "<div>\n",
       "<style scoped>\n",
       "    .dataframe tbody tr th:only-of-type {\n",
       "        vertical-align: middle;\n",
       "    }\n",
       "\n",
       "    .dataframe tbody tr th {\n",
       "        vertical-align: top;\n",
       "    }\n",
       "\n",
       "    .dataframe thead th {\n",
       "        text-align: right;\n",
       "    }\n",
       "</style>\n",
       "<table border=\"1\" class=\"dataframe\">\n",
       "  <thead>\n",
       "    <tr style=\"text-align: right;\">\n",
       "      <th></th>\n",
       "      <th>region</th>\n",
       "      <th>kills</th>\n",
       "    </tr>\n",
       "  </thead>\n",
       "  <tbody>\n",
       "    <tr>\n",
       "      <th>0</th>\n",
       "      <td>1</td>\n",
       "      <td>0000000000000000000000000000000000000000000000...</td>\n",
       "    </tr>\n",
       "    <tr>\n",
       "      <th>1</th>\n",
       "      <td>10</td>\n",
       "      <td>0000000100100000000000000000000000000300010010...</td>\n",
       "    </tr>\n",
       "    <tr>\n",
       "      <th>2</th>\n",
       "      <td>11</td>\n",
       "      <td>1001003201200100271000001000021000000201001013...</td>\n",
       "    </tr>\n",
       "    <tr>\n",
       "      <th>3</th>\n",
       "      <td>12</td>\n",
       "      <td>0001002000002000010100001010000000000000010000...</td>\n",
       "    </tr>\n",
       "    <tr>\n",
       "      <th>4</th>\n",
       "      <td>2</td>\n",
       "      <td>1100100000000000000000000002000111903120100101...</td>\n",
       "    </tr>\n",
       "    <tr>\n",
       "      <th>5</th>\n",
       "      <td>3</td>\n",
       "      <td>0000000101010100000010100200000000000000100100...</td>\n",
       "    </tr>\n",
       "    <tr>\n",
       "      <th>6</th>\n",
       "      <td>4</td>\n",
       "      <td>0250001000020111000000000000000001000000003000...</td>\n",
       "    </tr>\n",
       "    <tr>\n",
       "      <th>7</th>\n",
       "      <td>5</td>\n",
       "      <td>1000123610000020108110100003210000800131637000...</td>\n",
       "    </tr>\n",
       "    <tr>\n",
       "      <th>8</th>\n",
       "      <td>6</td>\n",
       "      <td>1000041100010014361110004100211111501133240131...</td>\n",
       "    </tr>\n",
       "    <tr>\n",
       "      <th>9</th>\n",
       "      <td>7</td>\n",
       "      <td>0200233012472300020271500032035000114040030031...</td>\n",
       "    </tr>\n",
       "    <tr>\n",
       "      <th>10</th>\n",
       "      <td>8</td>\n",
       "      <td>0170470001053113002210000100002001010115012110...</td>\n",
       "    </tr>\n",
       "    <tr>\n",
       "      <th>11</th>\n",
       "      <td>9</td>\n",
       "      <td>0002610110400000000112021000201000000000000000...</td>\n",
       "    </tr>\n",
       "  </tbody>\n",
       "</table>\n",
       "</div>"
      ],
      "text/plain": [
       "   region                                              kills\n",
       "0       1  0000000000000000000000000000000000000000000000...\n",
       "1      10  0000000100100000000000000000000000000300010010...\n",
       "2      11  1001003201200100271000001000021000000201001013...\n",
       "3      12  0001002000002000010100001010000000000000010000...\n",
       "4       2  1100100000000000000000000002000111903120100101...\n",
       "5       3  0000000101010100000010100200000000000000100100...\n",
       "6       4  0250001000020111000000000000000001000000003000...\n",
       "7       5  1000123610000020108110100003210000800131637000...\n",
       "8       6  1000041100010014361110004100211111501133240131...\n",
       "9       7  0200233012472300020271500032035000114040030031...\n",
       "10      8  0170470001053113002210000100002001010115012110...\n",
       "11      9  0002610110400000000112021000201000000000000000..."
      ]
     },
     "execution_count": 5,
     "metadata": {},
     "output_type": "execute_result"
    }
   ],
   "source": [
    "import pandas as pd\n",
    "\n",
    "region = getIndexByKey('region')\n",
    "nkill = getIndexByKey('nkill')\n",
    "rdd_country_kill = data.map(lambda x: (x[region], x[nkill]))\\\n",
    "                       .reduceByKey(lambda a, b: a+b)\\\n",
    "                       .filter(lambda x: x[0]!='region')\\\n",
    "                       .sortByKey(1)\n",
    "\n",
    "country_kill = rdd_country_kill.collect()\n",
    "df_country_kill = pd.DataFrame.from_records(country_kill, columns = ('region', 'kills'))\n",
    "df_country_kill"
   ]
  },
  {
   "cell_type": "markdown",
   "metadata": {},
   "source": [
    "## 2. Vizualizáiók \n",
    "### 2.1 Terrortámadások denzitása\n",
    "\n",
    "Az alábbi vizualizációs blokk az összes terrorcselekményt ábrázolja a hosszúsági és szélességi adatok alapján.\n",
    "A vizualizációhoz elsősorban a *datashader* könyvtárat használjuk. A codebook alapján, a hosszúsági és szélességi adatok WGS84-es formátumba vannak tárolva, viszont ahhoz, hogy megfelelően tudjuk ábrázolni a pontokat, WebMercator formátumba kell  projektálni a meglévő hosszúsági és szélességi adatokat. Ehhez a *pyproj* nevű könyvtárat használjuk. Ehhez egy-egy  függvényt (*toWebMLon* és *toWebMLat*) definiáltunk, ami megvalósítja a megfelelő projekciókat. A pozíciókat a *pandas* könyvtár segítségével egy dataframe-be tároljuk, amit feltudunk használni a vizualizációhoz. Az ábrán fekete alapra egy \n",
    "\"hőtérkép\"-hez hasonló eredményt várunk, vagyis adott térségben lévő színfoltok fogják jellemezni a terror cselekmények helybeli sűrűségét.\n"
   ]
  },
  {
   "cell_type": "code",
   "execution_count": 6,
   "metadata": {},
   "outputs": [],
   "source": [
    "from pyproj import Proj, transform\n",
    "\n",
    "# long/lat. adatok Web mercator formátumba konvertálásához\n",
    "def toWebMLon(lon):\n",
    "    loc = transform(Proj(init='epsg:4326'), Proj(init='epsg:3857'), lon, 0)\n",
    "    return loc[0]\n",
    "\n",
    "def toWebMLat(lat):\n",
    "    loc = transform(Proj(init='epsg:4326'), Proj(init='epsg:3857'), 0, lat)\n",
    "    return loc[1]\n",
    "\n",
    "def toWebM(pos):\n",
    "    return transform(Proj(init='epsg:4326'), Proj(init='epsg:3857'), pos[0], pos[1])\n",
    "\n",
    "# indexek\n",
    "longitude = getIndexByKey('longitude')\n",
    "latitude = getIndexByKey('latitude')\n",
    "\n",
    "points = data.map(lambda x: (x[longitude], x[latitude])).collect()\n",
    "\n",
    "# dataframe alakítás\n",
    "locations = pd.DataFrame.from_records(points[1:], columns = points[0]).replace({',': '.'}, regex=True)\n",
    "locations = locations.apply(pd.to_numeric, errors='coerce').dropna()\n",
    "\n",
    "locations['longitude'] = locations['longitude'].apply(toWebMLon)\n",
    "locations['latitude'] = locations['latitude'].apply(toWebMLat)"
   ]
  },
  {
   "cell_type": "code",
   "execution_count": 7,
   "metadata": {},
   "outputs": [],
   "source": [
    "import datashader as ds\n",
    "import datashader.glyphs\n",
    "import datashader.transfer_functions as tf\n",
    "\n",
    "x_range = (locations['longitude'].min(), locations['longitude'].max())\n",
    "y_range = (locations['latitude'].min(), locations['latitude'].max())\n",
    "\n",
    "plot_width  = int(1000) # Minnél nagyobb, jobb a felbontás, akár országon belüli eloszlás vizsgálatához\n",
    "plot_height = int(plot_width*7.0/12)\n",
    "\n",
    "cvs = ds.Canvas(plot_width=plot_width, plot_height=plot_height, x_range=x_range, y_range=y_range)\n",
    "\n",
    "agg = cvs.points(locations, 'longitude', 'latitude') "
   ]
  },
  {
   "cell_type": "code",
   "execution_count": 8,
   "metadata": {},
   "outputs": [
    {
     "name": "stderr",
     "output_type": "stream",
     "text": [
      "/opt/conda/lib/python3.6/site-packages/matplotlib/colors.py:496: RuntimeWarning: invalid value encountered in less\n",
      "  cbook._putmask(xa, xa < 0.0, -1)\n"
     ]
    },
    {
     "data": {
      "image/png": "[encoded data removed]",
      "text/plain": [
       "<xarray.Image (latitude: 583, longitude: 1000)>\n",
       "array([[4278190080, 4278190080, 4278190080, ..., 4278190080, 4278190080,\n",
       "        4278190080],\n",
       "       [4278190080, 4278190080, 4278190080, ..., 4278190080, 4278190080,\n",
       "        4278190080],\n",
       "       [4278190080, 4278190080, 4278190080, ..., 4278190080, 4278190080,\n",
       "        4278190080],\n",
       "       ..., \n",
       "       [4278190080, 4278190080, 4278190080, ..., 4278190080, 4278190080,\n",
       "        4278190080],\n",
       "       [4278190080, 4278190080, 4278190080, ..., 4278190080, 4278190080,\n",
       "        4278190080],\n",
       "       [4278190080, 4278190080, 4278190080, ..., 4278190080, 4278190080,\n",
       "        4278190080]], dtype=uint32)\n",
       "Coordinates:\n",
       "  * latitude   (latitude) float64 -6.995e+06 -6.961e+06 -6.927e+06 ...\n",
       "  * longitude  (longitude) float64 -1.959e+07 -1.955e+07 -1.951e+07 ..."
      ]
     },
     "execution_count": 8,
     "metadata": {},
     "output_type": "execute_result"
    }
   ],
   "source": [
    "from functools import partial\n",
    "from datashader.utils import export_image\n",
    "from matplotlib.cm import hot\n",
    "\n",
    "background = \"black\"\n",
    "export = partial(export_image, background = background, export_path=\"export\")\n",
    "\n",
    "export(tf.shade(agg, cmap = hot, how='eq_hist'), \"gtd_on_map\")"
   ]
  },
  {
   "cell_type": "markdown",
   "metadata": {},
   "source": [
    "### 2.2 Terrorcselekmények időbeli trendje\n",
    "Az alábbi vizualizációs blokk egy egyszerű idősor diagram, amely ábrázolja, hogy egy évben mennyi terrorcselekmény történt."
   ]
  },
  {
   "cell_type": "code",
   "execution_count": 9,
   "metadata": {},
   "outputs": [
    {
     "data": {
      "image/png": "[encoded data removed]",
      "text/plain": [
       "<matplotlib.figure.Figure at 0x7f1f3ac2ce80>"
      ]
     },
     "metadata": {},
     "output_type": "display_data"
    }
   ],
   "source": [
    "import matplotlib.pyplot as plt\n",
    "\n",
    "plt.plot(df_years['year'], df_years['count'])\n",
    "plt.show()"
   ]
  },
  {
   "cell_type": "code",
   "execution_count": null,
   "metadata": {},
   "outputs": [],
   "source": []
  }
 ],
 "metadata": {
  "kernelspec": {
   "display_name": "Python 3",
   "language": "python",
   "name": "python3"
  },
  "language_info": {
   "codemirror_mode": {
    "name": "ipython",
    "version": 3
   },
   "file_extension": ".py",
   "mimetype": "text/x-python",
   "name": "python",
   "nbconvert_exporter": "python",
   "pygments_lexer": "ipython3",
   "version": "3.6.2"
  }
 },
 "nbformat": 4,
 "nbformat_minor": 2
}
