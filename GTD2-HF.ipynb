{
 "cells": [
  {
   "cell_type": "markdown",
   "metadata": {},
   "source": [
    "# GTD2 notebook"
   ]
  },
  {
   "cell_type": "markdown",
   "metadata": {},
   "source": [
    "## 1. Adat és módszer"
   ]
  },
  {
   "cell_type": "markdown",
   "metadata": {},
   "source": [
    "**Feladatunk a terrorizmus tulajdonságainak kontintens- és országfüggőségének vizualizálása, valamint a terrorcselekmények klasszifikációja az áldozatok száma alapján.**\n",
    "\n",
    "GTD2 adatkészlet esetén terrorizmus az a cselekmény, melyre az alábbi pontok közül legalább kettő teljesül:\n",
    "1. Az erőszakos cselekedet célja egy politikai, gazdasági, vallási vagy társadalmi cél elérése volt.\n",
    "2. Az erőszakos cselekedet során egyértelmű volt a szándékos kényszerítés, megfélemlítés, vagy valamely más üzenet közvetítése egy nagyobb közönségnek, nem csak az áldozatoknak.\n",
    "3. Az erőszakos cselekedet során sérültek a nemzetközileg elismert emberi jogok.\n",
    "\n",
    "Az adatok 1970 és 2016 között történt terrorcselekményeket tartalmazzák. 1970-től 1997-ig rendszeresen frissítették, utána 2007-ig viszont visszamenőleg vitték fel az ismert támadásokat. Ezáltal valószínűleg ez az időszak nem adja vissza a teljes képet. 2007 után újra bekerültek az aktuális történések.\n",
    "\n",
    "A forrás részletes információkat tartalmaz az\n",
    "* esemény idejéről, hosszáról\n",
    "* incidensről (definíció szerinti értelmezése alapján)\n",
    "* incidens helyéről\n",
    "* támadásról (típusa, sikeressége)\n",
    "* fegyverről (típusa, altípusa)\n",
    "* célpontról/áldozatról (típusa, specifikussága, nemzeti jellege)\n",
    "* elkövetőről (csoport, létszám, bizonyosság) \n",
    "* veszteségekről és következményekről (halálos áldozatok száma, sérültek száma, anyagi kár, túszok)\n",
    "* egyéb információkról és forrásokról"
   ]
  },
  {
   "cell_type": "markdown",
   "metadata": {},
   "source": [
    "---"
   ]
  },
  {
   "cell_type": "markdown",
   "metadata": {},
   "source": [
    "## 2. EDA"
   ]
  },
  {
   "cell_type": "markdown",
   "metadata": {},
   "source": [
    "### 2.1 Adatok beolvasása\n",
    "\n",
    "Spark python könyvtár importálása, majd a spark környezet `sc` létrehozása lokál módban."
   ]
  },
  {
   "cell_type": "code",
   "execution_count": 1,
   "metadata": {},
   "outputs": [],
   "source": [
    "from pyspark import SparkContext\n",
    "from pyspark.sql import SQLContext\n",
    "\n",
    "sc = SparkContext('local', 'gtd2')\n",
    "sqlc = SQLContext(sc)"
   ]
  },
  {
   "cell_type": "markdown",
   "metadata": {},
   "source": [
    "Az adatokat `gtd.txt` tabulátorral elválasztott szöveges fájlból olvassuk ki. Majd egy `map` segítségével tagoljuk a tabulátor alapján az oszlopokat."
   ]
  },
  {
   "cell_type": "code",
   "execution_count": 2,
   "metadata": {},
   "outputs": [],
   "source": [
    "raw = sc.textFile(\"gtd.txt\")\n",
    "data = raw.map(lambda x: x.split('\\t'))\n",
    "\n",
    "# Segéd függvény, amely az adatnak az oszlop indexét adja vissza az oszlopnév alapján\n",
    "def getIndexByKey(key):\n",
    "    return data.take(1)[0].index(key)"
   ]
  },
  {
   "cell_type": "markdown",
   "metadata": {},
   "source": [
    "### 2.2 Incidensek száma az egyes országokban\n",
    "\n",
    "Az `incidents_in_countries`-ban találhatóak az összes terrorcselekmény száma országokra bontva. Az első öt legtöbb terrorcselekményt tartalmazó ország megjelenítése."
   ]
  },
  {
   "cell_type": "code",
   "execution_count": 3,
   "metadata": {
    "scrolled": true
   },
   "outputs": [
    {
     "data": {
      "text/plain": [
       "[(22130, 'Iraq'),\n",
       " (13634, 'Pakistan'),\n",
       " (11306, 'Afghanistan'),\n",
       " (10978, 'India'),\n",
       " (8163, 'Colombia')]"
      ]
     },
     "execution_count": 3,
     "metadata": {},
     "output_type": "execute_result"
    }
   ],
   "source": [
    "country_txt = getIndexByKey('country_txt')\n",
    "incidents_in_countries = data.map(lambda x: (x[country_txt], 1)).reduceByKey(lambda a,b: a+b)\n",
    "incidents_in_countries = incidents_in_countries.map(lambda x: (x[1], x[0])).sortByKey(0)\n",
    "incidents_in_countries.take(5)"
   ]
  },
  {
   "cell_type": "markdown",
   "metadata": {},
   "source": [
    "### 2.3 Terrorcselekmények számának év szerinti összesítése"
   ]
  },
  {
   "cell_type": "code",
   "execution_count": 4,
   "metadata": {
    "scrolled": true
   },
   "outputs": [],
   "source": [
    "import pandas as pd\n",
    "\n",
    "iyear = getIndexByKey('iyear')\n",
    "rdd_years = data.map(lambda x: (x[iyear], 1))\\\n",
    "                .reduceByKey(lambda a, b: a+b)\\\n",
    "                .filter(lambda x: x[0]!='iyear')\\\n",
    "                .sortByKey(1)\n",
    "\n",
    "years = rdd_years.collect()\n",
    "df_years = pd.DataFrame.from_records(years, columns = ('year', 'count')).apply(pd.to_numeric)"
   ]
  },
  {
   "cell_type": "markdown",
   "metadata": {},
   "source": [
    "A `df_years` tartalmazza az egyes években összesített terrorcselekmények számát. A `df_years_kill` változóban pedig az összes haláleset található évekre lebontva."
   ]
  },
  {
   "cell_type": "code",
   "execution_count": 5,
   "metadata": {},
   "outputs": [],
   "source": [
    "nkill = getIndexByKey('nkill')\n",
    "rdd_years_kills = data.map(lambda x: (x[iyear], x[nkill]))\\\n",
    "                      .filter(lambda x: x[0]!='iyear')\\\n",
    "                      .sortByKey(1)\n",
    "        \n",
    "df_years_kill = pd.DataFrame.from_records(rdd_years_kills.collect(), columns = ('year', 'killed')).apply(pd.to_numeric)\n",
    "df_years_kill = df_years_kill.groupby('year')\\\n",
    "                             .sum()\\\n",
    "                             .reset_index()"
   ]
  },
  {
   "cell_type": "markdown",
   "metadata": {},
   "source": [
    "Statisztikai adatok számításához lesz rá szükség. TODO"
   ]
  },
  {
   "cell_type": "code",
   "execution_count": 6,
   "metadata": {},
   "outputs": [],
   "source": [
    "from pyspark.mllib.stat import Statistics\n",
    "import numpy as np\n",
    "summary_year = Statistics.colStats(rdd_years)"
   ]
  },
  {
   "cell_type": "code",
   "execution_count": 7,
   "metadata": {},
   "outputs": [
    {
     "name": "stdout",
     "output_type": "stream",
     "text": [
      "46 év alatt átlagosan ennyi haláleset történt:  8338.13043478\n",
      "2016 -ban/-ben történt a legtöbb ( 43566 ) haláleset\n"
     ]
    }
   ],
   "source": [
    "print('46 év alatt átlagosan ennyi haláleset történt: ', df_years_kill['killed'].mean())\n",
    "print(int(df_years_kill.max()['year']),'-ban/-ben történt a legtöbb (',int(df_years_kill.max()['killed']),') haláleset')"
   ]
  },
  {
   "cell_type": "markdown",
   "metadata": {},
   "source": [
    "### 2.4 Halálesetek száma régiókra vetítve"
   ]
  },
  {
   "cell_type": "code",
   "execution_count": 8,
   "metadata": {},
   "outputs": [
    {
     "data": {
      "text/html": [
       "<div>\n",
       "<style scoped>\n",
       "    .dataframe tbody tr th:only-of-type {\n",
       "        vertical-align: middle;\n",
       "    }\n",
       "\n",
       "    .dataframe tbody tr th {\n",
       "        vertical-align: top;\n",
       "    }\n",
       "\n",
       "    .dataframe thead th {\n",
       "        text-align: right;\n",
       "    }\n",
       "</style>\n",
       "<table border=\"1\" class=\"dataframe\">\n",
       "  <thead>\n",
       "    <tr style=\"text-align: right;\">\n",
       "      <th></th>\n",
       "      <th>region</th>\n",
       "      <th>killed</th>\n",
       "    </tr>\n",
       "  </thead>\n",
       "  <tbody>\n",
       "    <tr>\n",
       "      <th>0</th>\n",
       "      <td>1</td>\n",
       "      <td>4764.0</td>\n",
       "    </tr>\n",
       "    <tr>\n",
       "      <th>1</th>\n",
       "      <td>2</td>\n",
       "      <td>28704.0</td>\n",
       "    </tr>\n",
       "    <tr>\n",
       "      <th>2</th>\n",
       "      <td>3</td>\n",
       "      <td>28730.0</td>\n",
       "    </tr>\n",
       "    <tr>\n",
       "      <th>3</th>\n",
       "      <td>4</td>\n",
       "      <td>1138.0</td>\n",
       "    </tr>\n",
       "    <tr>\n",
       "      <th>4</th>\n",
       "      <td>5</td>\n",
       "      <td>14819.0</td>\n",
       "    </tr>\n",
       "    <tr>\n",
       "      <th>5</th>\n",
       "      <td>6</td>\n",
       "      <td>93434.0</td>\n",
       "    </tr>\n",
       "    <tr>\n",
       "      <th>6</th>\n",
       "      <td>7</td>\n",
       "      <td>993.0</td>\n",
       "    </tr>\n",
       "    <tr>\n",
       "      <th>7</th>\n",
       "      <td>8</td>\n",
       "      <td>6595.0</td>\n",
       "    </tr>\n",
       "    <tr>\n",
       "      <th>8</th>\n",
       "      <td>9</td>\n",
       "      <td>7311.0</td>\n",
       "    </tr>\n",
       "    <tr>\n",
       "      <th>9</th>\n",
       "      <td>10</td>\n",
       "      <td>125676.0</td>\n",
       "    </tr>\n",
       "    <tr>\n",
       "      <th>10</th>\n",
       "      <td>11</td>\n",
       "      <td>71244.0</td>\n",
       "    </tr>\n",
       "    <tr>\n",
       "      <th>11</th>\n",
       "      <td>12</td>\n",
       "      <td>146.0</td>\n",
       "    </tr>\n",
       "  </tbody>\n",
       "</table>\n",
       "</div>"
      ],
      "text/plain": [
       "    region    killed\n",
       "0        1    4764.0\n",
       "1        2   28704.0\n",
       "2        3   28730.0\n",
       "3        4    1138.0\n",
       "4        5   14819.0\n",
       "5        6   93434.0\n",
       "6        7     993.0\n",
       "7        8    6595.0\n",
       "8        9    7311.0\n",
       "9       10  125676.0\n",
       "10      11   71244.0\n",
       "11      12     146.0"
      ]
     },
     "execution_count": 8,
     "metadata": {},
     "output_type": "execute_result"
    }
   ],
   "source": [
    "import pandas as pd\n",
    "\n",
    "region = getIndexByKey('region')\n",
    "nkill = getIndexByKey('nkill')\n",
    "rdd_country_kill = data.map(lambda x: (x[region], x[nkill]))\\\n",
    "                       .filter(lambda x: x[0]!='region')\\\n",
    "                       .sortByKey(1)\n",
    "\n",
    "country_kill = rdd_country_kill.collect()\n",
    "df_country_kill = pd.DataFrame.from_records(country_kill, columns = ('region', 'killed')).apply(pd.to_numeric)\n",
    "df_country_kill = df_country_kill.groupby('region').sum().reset_index()\n",
    "df_country_kill"
   ]
  },
  {
   "cell_type": "markdown",
   "metadata": {},
   "source": [
    "---"
   ]
  },
  {
   "cell_type": "markdown",
   "metadata": {},
   "source": [
    "## 3. Vizualizációk \n",
    "### 3.1 Terrortámadások denzitása\n",
    "\n",
    "Az alábbi vizualizációs blokk az összes terrorcselekményt ábrázolja a hosszúsági és szélességi adatok alapján.\n",
    "A vizualizációhoz elsősorban a *datashader* könyvtárat használjuk. A codebook alapján, a hosszúsági és szélességi adatok WGS84-es formátumba vannak tárolva, viszont ahhoz, hogy megfelelően tudjuk ábrázolni a pontokat, WebMercator formátumba kell  projektálni a meglévő hosszúsági és szélességi adatokat. Ehhez a *pyproj* nevű könyvtárat használjuk. Ehhez egy-egy  függvényt (*toWebMLon* és *toWebMLat*) definiáltunk, ami megvalósítja a megfelelő projekciókat. A pozíciókat a *pandas* könyvtár segítségével egy dataframe-be tároljuk, amit feltudunk használni a vizualizációhoz. Az ábrán fekete alapra egy \n",
    "\"hőtérkép\"-hez hasonló eredményt várunk, vagyis adott térségben lévő színfoltok fogják jellemezni a terror cselekmények helybeli sűrűségét.\n",
    "\n",
    "Később a *datashader* könyvtárat arra fogjuk használni, hogy kontinensekre, ill. országokra vetítve ábrázoljuk a terrorcselekmények számát. Minél több terrortámadás történt egy kontinensen vagy egy országban, az annál világosabb színt kap."
   ]
  },
  {
   "cell_type": "code",
   "execution_count": 9,
   "metadata": {},
   "outputs": [],
   "source": [
    "from pyproj import Proj, transform\n",
    "\n",
    "# long/lat. adatok Web mercator formátumba konvertálásához\n",
    "def toWebMLon(lon):\n",
    "    loc = transform(Proj(init='epsg:4326'), Proj(init='epsg:3857'), lon, 0)\n",
    "    return loc[0]\n",
    "\n",
    "def toWebMLat(lat):\n",
    "    loc = transform(Proj(init='epsg:4326'), Proj(init='epsg:3857'), 0, lat)\n",
    "    return loc[1]\n",
    "\n",
    "# indexek\n",
    "longitude = getIndexByKey('longitude')\n",
    "latitude = getIndexByKey('latitude')\n",
    "\n",
    "points = data.map(lambda x: (x[longitude], x[latitude])).collect()\n",
    "\n",
    "locations = pd.DataFrame.from_records(points[1:], columns = points[0]).replace({',': '.'}, regex=True)\n",
    "locations = locations.apply(pd.to_numeric, errors='coerce').dropna()\n",
    "\n",
    "locations['longitude'] = locations['longitude'].apply(toWebMLon)\n",
    "locations['latitude'] = locations['latitude'].apply(toWebMLat)"
   ]
  },
  {
   "cell_type": "code",
   "execution_count": 10,
   "metadata": {},
   "outputs": [],
   "source": [
    "import datashader as ds\n",
    "import datashader.glyphs\n",
    "import datashader.transfer_functions as tf\n",
    "\n",
    "x_range = (locations['longitude'].min(), locations['longitude'].max())\n",
    "y_range = (locations['latitude'].min(), locations['latitude'].max())\n",
    "\n",
    "plot_width  = int(1000) # Minél nagyobb, annál jobb a felbontás, akár országon belüli eloszlás vizsgálatához\n",
    "plot_height = int(plot_width*7.0/12)\n",
    "\n",
    "cvs = ds.Canvas(plot_width=plot_width, plot_height=plot_height, x_range=x_range, y_range=y_range)\n",
    "\n",
    "agg = cvs.points(locations, 'longitude', 'latitude') "
   ]
  },
  {
   "cell_type": "code",
   "execution_count": 11,
   "metadata": {
    "scrolled": true
   },
   "outputs": [
    {
     "name": "stderr",
     "output_type": "stream",
     "text": [
      "/opt/conda/lib/python3.6/site-packages/matplotlib/colors.py:496: RuntimeWarning: invalid value encountered in less\n",
      "  cbook._putmask(xa, xa < 0.0, -1)\n"
     ]
    },
    {
     "data": {
      "image/png": "[encoded data removed]",
      "text/plain": [
       "<xarray.Image (latitude: 583, longitude: 1000)>\n",
       "array([[4278190080, 4278190080, 4278190080, ..., 4278190080, 4278190080,\n",
       "        4278190080],\n",
       "       [4278190080, 4278190080, 4278190080, ..., 4278190080, 4278190080,\n",
       "        4278190080],\n",
       "       [4278190080, 4278190080, 4278190080, ..., 4278190080, 4278190080,\n",
       "        4278190080],\n",
       "       ..., \n",
       "       [4278190080, 4278190080, 4278190080, ..., 4278190080, 4278190080,\n",
       "        4278190080],\n",
       "       [4278190080, 4278190080, 4278190080, ..., 4278190080, 4278190080,\n",
       "        4278190080],\n",
       "       [4278190080, 4278190080, 4278190080, ..., 4278190080, 4278190080,\n",
       "        4278190080]], dtype=uint32)\n",
       "Coordinates:\n",
       "  * latitude   (latitude) float64 -6.995e+06 -6.961e+06 -6.927e+06 ...\n",
       "  * longitude  (longitude) float64 -1.959e+07 -1.955e+07 -1.951e+07 ..."
      ]
     },
     "execution_count": 11,
     "metadata": {},
     "output_type": "execute_result"
    }
   ],
   "source": [
    "from functools import partial\n",
    "from datashader.utils import export_image\n",
    "from matplotlib.cm import hot\n",
    "\n",
    "background = \"black\"\n",
    "export = partial(export_image, background = background, export_path=\"export\")\n",
    "\n",
    "export(tf.shade(agg, cmap = hot, how='eq_hist'), \"gtd_on_map\")"
   ]
  },
  {
   "cell_type": "markdown",
   "metadata": {},
   "source": [
    "### 3.2 Terrorcselekmények időbeli trendje\n",
    "Az alábbi vizualizációs blokk egy egyszerű idősor diagram, amely ábrázolja, hogy egy évben mennyi terrorcselekmény történt, és az évek során hány halálos áldozat volt."
   ]
  },
  {
   "cell_type": "code",
   "execution_count": 12,
   "metadata": {},
   "outputs": [
    {
     "data": {
      "image/png": "[encoded data removed]",
      "text/plain": [
       "<matplotlib.figure.Figure at 0x7fbbc61bc2b0>"
      ]
     },
     "metadata": {},
     "output_type": "display_data"
    }
   ],
   "source": [
    "import matplotlib.pyplot as plt\n",
    "\n",
    "fig = plt.figure()\n",
    "\n",
    "pl1 = fig.add_subplot(211)\n",
    "pl1.set_ylabel('Terrorcselekmények száma')\n",
    "pl1.set_title('Halálesetek és terrorcselekmények száma 1970-2016')\n",
    "plt.yscale('log')\n",
    "pl1.plot(df_years['year'], df_years['count'])\n",
    "\n",
    "pl2= fig.add_subplot(212)\n",
    "pl2.set_ylabel('Halálesetek száma')\n",
    "pl2.set_xlabel('years')\n",
    "plt.yscale('log')\n",
    "pl2.plot(df_years_kill['year'], df_years_kill['killed'])\n",
    "\n",
    "plt.show()"
   ]
  },
  {
   "cell_type": "markdown",
   "metadata": {},
   "source": [
    "---"
   ]
  },
  {
   "cell_type": "markdown",
   "metadata": {},
   "source": [
    "# 4. Klasszifikáció "
   ]
  },
  {
   "cell_type": "markdown",
   "metadata": {},
   "source": [
    "Klasszifikálnunk kell az incidenseket az áldozatok száma alapján. Alkothatnánk például 4 osztályt a percentilisek alapján. Ne nekünk kelljen megmondani, hogy 10 alatt kevésnek számít, 100 felett meg soknak. Beszéljenek a számok! Ha pl az adatkészlet alapján az esetek 25%-ában kevesebben haltak meg 20-nál, 20 legyen a legkevesebb áldozatot jelölő osztály."
   ]
  },
  {
   "cell_type": "code",
   "execution_count": 13,
   "metadata": {},
   "outputs": [
    {
     "data": {
      "text/html": [
       "<div>\n",
       "<style scoped>\n",
       "    .dataframe tbody tr th:only-of-type {\n",
       "        vertical-align: middle;\n",
       "    }\n",
       "\n",
       "    .dataframe tbody tr th {\n",
       "        vertical-align: top;\n",
       "    }\n",
       "\n",
       "    .dataframe thead th {\n",
       "        text-align: right;\n",
       "    }\n",
       "</style>\n",
       "<table border=\"1\" class=\"dataframe\">\n",
       "  <thead>\n",
       "    <tr style=\"text-align: right;\">\n",
       "      <th></th>\n",
       "      <th>nkill</th>\n",
       "    </tr>\n",
       "  </thead>\n",
       "  <tbody>\n",
       "    <tr>\n",
       "      <th>0.25</th>\n",
       "      <td>0.0</td>\n",
       "    </tr>\n",
       "    <tr>\n",
       "      <th>0.50</th>\n",
       "      <td>0.0</td>\n",
       "    </tr>\n",
       "    <tr>\n",
       "      <th>0.75</th>\n",
       "      <td>2.0</td>\n",
       "    </tr>\n",
       "    <tr>\n",
       "      <th>1.00</th>\n",
       "      <td>1500.0</td>\n",
       "    </tr>\n",
       "  </tbody>\n",
       "</table>\n",
       "</div>"
      ],
      "text/plain": [
       "       nkill\n",
       "0.25     0.0\n",
       "0.50     0.0\n",
       "0.75     2.0\n",
       "1.00  1500.0"
      ]
     },
     "execution_count": 13,
     "metadata": {},
     "output_type": "execute_result"
    }
   ],
   "source": [
    "nkill_column = data.map(lambda x: [x[nkill]]).filter(lambda x: x[0]!='nkill' and x[0]!='')\n",
    "df = pd.DataFrame(nkill_column.collect(),columns=['nkill']).apply(pd.to_numeric)\n",
    "df.quantile([0.25,0.5,0.75,1])"
   ]
  },
  {
   "cell_type": "markdown",
   "metadata": {},
   "source": [
    "Hmm, ez fura. Vajon hogyan alakul az áldozatok száma az összes incidens esetén?"
   ]
  },
  {
   "cell_type": "code",
   "execution_count": 14,
   "metadata": {},
   "outputs": [
    {
     "data": {
      "image/png": "[encoded data removed]",
      "text/plain": [
       "<matplotlib.figure.Figure at 0x7fbbc686c2e8>"
      ]
     },
     "metadata": {},
     "output_type": "display_data"
    }
   ],
   "source": [
    "nkill_sum = data.map(lambda x: (x[nkill], 1)).filter(lambda x: x[0]!='nkill' and x[0]!='').reduceByKey(lambda a,b: a+b).sortByKey(1)\n",
    "df2 = pd.DataFrame(nkill_sum.collect(), columns=['nkills','sum']).apply(pd.to_numeric)\n",
    "plt.plot(df2['nkills'],df2['sum'], '.')\n",
    "plt.yscale('log')\n",
    "plt.show()"
   ]
  },
  {
   "cell_type": "markdown",
   "metadata": {},
   "source": [
    "ÁHÁ! Így már jobban tudunk gondolkodni, hogyan osszuk be az osztályainkat sávokra. A percentilis ötlete nem jött be. :D"
   ]
  },
  {
   "cell_type": "code",
   "execution_count": 15,
   "metadata": {},
   "outputs": [
    {
     "data": {
      "text/plain": [
       "[(1, 82925), (2, 59253), (3, 9892), (4, 8391), (5, 207)]"
      ]
     },
     "execution_count": 15,
     "metadata": {},
     "output_type": "execute_result"
    }
   ],
   "source": [
    "def getClassLabel(number):\n",
    "    borders = (1,5,10,100) # i. oszályba tartozik egy incidens, ha a tömb i. indexű eleménél kevesebb áldozata volt\n",
    "    for i in range(len(borders)):\n",
    "        if int(number)<borders[i]:\n",
    "            return i+1\n",
    "    return len(borders)+1\n",
    "\n",
    "nkill_classes = data.map(lambda x: x[nkill]).filter(lambda x: x!='nkill' and x!='').map(lambda x: (getClassLabel(x), 1)).reduceByKey(lambda a,b: a+b).sortByKey(1)\n",
    "nkill_classes.collect()\n",
    "\n"
   ]
  },
  {
   "cell_type": "code",
   "execution_count": null,
   "metadata": {},
   "outputs": [],
   "source": []
  }
 ],
 "metadata": {
  "celltoolbar": "Raw Cell Format",
  "kernelspec": {
   "display_name": "Python 3",
   "language": "python",
   "name": "python3"
  },
  "language_info": {
   "codemirror_mode": {
    "name": "ipython",
    "version": 3
   },
   "file_extension": ".py",
   "mimetype": "text/x-python",
   "name": "python",
   "nbconvert_exporter": "python",
   "pygments_lexer": "ipython3",
   "version": "3.6.3"
  }
 },
 "nbformat": 4,
 "nbformat_minor": 2
}
